{
  "nbformat": 4,
  "nbformat_minor": 0,
  "metadata": {
    "colab": {
      "provenance": [],
      "authorship_tag": "ABX9TyN6acU8w7RTcRkGRLFuNlqL",
      "include_colab_link": true
    },
    "kernelspec": {
      "name": "python3",
      "display_name": "Python 3"
    },
    "language_info": {
      "name": "python"
    }
  },
  "cells": [
    {
      "cell_type": "markdown",
      "metadata": {
        "id": "view-in-github",
        "colab_type": "text"
      },
      "source": [
        "<a href=\"https://colab.research.google.com/github/OmkarDolas/Deep-Learning/blob/main/Lab1_Python_Omkar_Dolas.ipynb\" target=\"_parent\"><img src=\"https://colab.research.google.com/assets/colab-badge.svg\" alt=\"Open In Colab\"/></a>"
      ]
    },
    {
      "cell_type": "code",
      "execution_count": 3,
      "metadata": {
        "colab": {
          "base_uri": "https://localhost:8080/"
        },
        "id": "YhVr-eRw4UA3",
        "outputId": "603f5c27-6cee-4da0-bbaa-5af8d64a490c"
      },
      "outputs": [
        {
          "output_type": "stream",
          "name": "stdout",
          "text": [
            "The element-wise product of vectors v1 and v2 :[ 3 -8 -5]\n",
            "the Euclidean norm (magnitude) of vector v1: 6.164414002968976\n",
            "the matrix-vector product A1 * (v1 + v2) : [ 6  0 14]\n",
            "the outer product of vectors v1 and v2 : [[ 3 12 -3]\n",
            " [-2 -8  2]\n",
            " [ 5 20 -5]]\n",
            "Determinant of A2: -2.9999999999999996\n",
            "Inverse of A2 is:\n",
            "[[-0.66666667 -1.33333333  1.        ]\n",
            " [-0.66666667  3.66666667 -2.        ]\n",
            " [ 1.         -2.          1.        ]]\n"
          ]
        }
      ],
      "source": [
        "import numpy as np\n",
        "\n",
        "# Using NumPy, perform the following operations on the given vectors and matrix\n",
        "# Compute the element-wise product of vectors v1 and v2\n",
        "import numpy as np\n",
        "\n",
        "v1 = np.array([3, -2, 5])\n",
        "v2 = np.array([1, 4, -1])\n",
        "\n",
        "product = v1 * v2\n",
        "print(f\"The element-wise product of vectors v1 and v2 :{product}\")\n",
        "\n",
        "# b. Calculate the Euclidean norm (magnitude) of vector v1\n",
        "v1 = np.array([3, -2, 5])\n",
        "\n",
        "norm_eucl = np.linalg.norm(v1)\n",
        "print(f\"the Euclidean norm (magnitude) of vector v1: {norm_eucl}\")\n",
        "\n",
        "\n",
        "# c. Compute the matrix-vector product A1 * (v1 + v2)\n",
        "\n",
        "A1 = [\n",
        "[2, -3, 1],\n",
        "[0, 4, -2],\n",
        "[1, -1, 3]\n",
        "]\n",
        "v1 = np.array([3, -2, 5])\n",
        "v2 = np.array([1, 4, -1])\n",
        "\n",
        "sum = v1 + v2\n",
        "matrix_vector = np.dot(A1,sum)\n",
        "print(f\"the matrix-vector product A1 * (v1 + v2) : {matrix_vector}\")\n",
        "\n",
        "\n",
        "# d. Compute the outer product of vectors v1 and v2.\n",
        "v1 = np.array([3, -2, 5])\n",
        "v2 = np.array([1, 4, -1])\n",
        "outer_product = np.outer(v1, v2)\n",
        "print(f\"the outer product of vectors v1 and v2 : {outer_product}\")\n",
        "\n",
        "# e. Find the determinant and inverse of the matrix A2\n",
        "A2 = [\n",
        "[1, 2, 3],\n",
        "[4, 5, 6],\n",
        "[7, 8, 10]\n",
        "]\n",
        "\n",
        "determinant_A2 = np.linalg.det(A2)\n",
        "print(f\"Determinant of A2: {determinant_A2}\")\n",
        "\n",
        "if determinant_A2 != 0:\n",
        "    inverse_A2 = np.linalg.inv(A2)\n",
        "    print(\"Inverse of A2 is:\")\n",
        "    print(inverse_A2)\n",
        "else:\n",
        "    print(\"Matrix is not invertible (determinant is zero).\")\n"
      ]
    },
    {
      "cell_type": "code",
      "source": [
        "import numpy as np\n",
        "\n",
        "# Define the adjacency matrix\n",
        "adjacency_matrix = np.array([[0, 1, 1, 0],\n",
        "                             [1, 0, 1, 0],\n",
        "                             [1, 1, 0, 1],\n",
        "                             [0, 0, 1, 0]])\n",
        "\n",
        "# 3a) Compute the degree of each node (sum of rows or columns of the adjacency matrix)\n",
        "degree_of_nodes = np.sum(adjacency_matrix, axis=1)\n",
        "\n",
        "# 3b) Compute the total number of edges (half the sum of all elements in the adjacency matrix)\n",
        "total_edges = np.sum(adjacency_matrix) // 2\n",
        "\n",
        "# 4) Find the shortest path from Node 1 to Node 4 using BFS\n",
        "def bfs_shortest_path(matrix, start_node, target_node):\n",
        "    # Initialize queue and visited set\n",
        "    queue = [[start_node]]\n",
        "    visited = np.zeros(matrix.shape[0], dtype=bool)\n",
        "    visited[start_node] = True\n",
        "\n",
        "    while queue:\n",
        "        path = queue.pop(0)  # Dequeue the first path\n",
        "        node = path[-1]      # Get the last node in the current path\n",
        "\n",
        "        if node == target_node:  # If we reached the target, return the path\n",
        "            return path\n",
        "\n",
        "        # Explore neighbors\n",
        "        for neighbor in range(matrix.shape[0]):\n",
        "            if matrix[node, neighbor] == 1 and not visited[neighbor]:\n",
        "                visited[neighbor] = True\n",
        "                new_path = list(path)\n",
        "                new_path.append(neighbor)\n",
        "                queue.append(new_path)\n",
        "\n",
        "    return None  # Return None if no path is found\n",
        "\n",
        "# Find the shortest path from Node 1 (index 0) to Node 4 (index 3)\n",
        "shortest_path = bfs_shortest_path(adjacency_matrix, 0, 3)\n",
        "\n",
        "# 5a) Calculate the eigenvalues and eigenvectors of the adjacency matrix\n",
        "eigenvalues, eigenvectors = np.linalg.eig(adjacency_matrix)\n",
        "\n",
        "# 5b) Multiply the adjacency matrix by the eigenvector corresponding to the largest eigenvalue (principal eigenvector)\n",
        "principal_eigenvector = eigenvectors[:, np.argmax(eigenvalues)]\n",
        "result = np.dot(adjacency_matrix, principal_eigenvector)\n",
        "\n",
        "# Display the results\n",
        "print(\"Degree of each node:\", degree_of_nodes)\n",
        "print(\"Total number of edges:\", total_edges)\n",
        "print(\"Shortest path from Node 1 to Node 4:\", [node + 1 for node in shortest_path])  # Add 1 to make it 1-indexed\n",
        "print(\"Eigenvalues:\", eigenvalues)\n",
        "print(\"Eigenvectors:\\n\", eigenvectors)\n",
        "print(\"Multiplication of adjacency matrix by the principal eigenvector:\\n\", result)\n"
      ],
      "metadata": {
        "colab": {
          "base_uri": "https://localhost:8080/"
        },
        "id": "Ujr0TB0pFuTy",
        "outputId": "6d59e241-54bb-4650-f1a1-4461b1b9c428"
      },
      "execution_count": 18,
      "outputs": [
        {
          "output_type": "stream",
          "name": "stdout",
          "text": [
            "Degree of each node: [2 2 3 1]\n",
            "Total number of edges: 4\n",
            "Shortest path from Node 1 to Node 4: [1, 3, 4]\n",
            "Eigenvalues: [ 2.17008649  0.31110782 -1.         -1.4811943 ]\n",
            "Eigenvectors:\n",
            " [[ 5.22720726e-01  3.68160356e-01 -7.07106781e-01 -3.02028137e-01]\n",
            " [ 5.22720726e-01  3.68160356e-01  7.07106781e-01 -3.02028137e-01]\n",
            " [ 6.11628457e-01 -2.53622791e-01  3.30606708e-16  7.49390492e-01]\n",
            " [ 2.81845199e-01 -8.15224745e-01 -1.69706147e-16 -5.05936655e-01]]\n",
            "Multiplication of adjacency matrix by the principal eigenvector:\n",
            " [1.13434918 1.13434918 1.32728665 0.61162846]\n"
          ]
        }
      ]
    },
    {
      "cell_type": "code",
      "source": [
        "import pandas as pd\n",
        "\n",
        "# DataFrame A\n",
        "data_A = {\n",
        "    'ID': [1, 2, 3, 4, 5, 6],\n",
        "    'X1': [15, 14, 13, 12, 11, 10],\n",
        "    'X2': ['CA', 'NV', 'WA', 'OR', 'FL', 'GA'],\n",
        "    'X3': [30, 29, 28, 27, 26, 25]\n",
        "}\n",
        "df_A = pd.DataFrame(data_A)\n",
        "\n",
        "# DataFrame B\n",
        "data_B = {\n",
        "    'ID': [3, 4, 5, 6, 7, 8],\n",
        "    'Y1': ['Alice', 'Bob', 'Charlie', 'Diana', 'Eve', 'Frank'],\n",
        "    'Y2': [20, 18, 16, 14, 12, 10]\n",
        "}\n",
        "df_B = pd.DataFrame(data_B)\n",
        "\n",
        "# a. Merge DataFrame A and DataFrame B horizontally (inner join), where ID >= 4\n",
        "df_A_filtered = df_A[df_A['ID'] >= 4]\n",
        "df_B_filtered = df_B[df_B['ID'] >= 4]\n",
        "df_merged_horizontal = pd.merge(df_A_filtered, df_B_filtered, on='ID')\n",
        "\n",
        "print(\"Merged Horizontally (ID >= 4):\")\n",
        "print(df_merged_horizontal)\n",
        "\n",
        "# b. Merge DataFrame A and DataFrame B vertically, where ID is in the range 3 to 6\n",
        "df_A_vertical = df_A[(df_A['ID'] >= 3) & (df_A['ID'] <= 6)]\n",
        "df_B_vertical = df_B[(df_B['ID'] >= 3) & (df_B['ID'] <= 6)]\n",
        "df_merged_vertical = pd.concat([df_A_vertical, df_B_vertical], ignore_index=True)\n",
        "\n",
        "print(\"\\nMerged Vertically (ID in range 3 to 6):\")\n",
        "print(df_merged_vertical)\n"
      ],
      "metadata": {
        "colab": {
          "base_uri": "https://localhost:8080/"
        },
        "id": "NJtZz8TQFmqo",
        "outputId": "f8adeb78-a8bc-472d-cd02-6617b548028c"
      },
      "execution_count": 13,
      "outputs": [
        {
          "output_type": "stream",
          "name": "stdout",
          "text": [
            "Merged Horizontally (ID >= 4):\n",
            "   ID  X1  X2  X3       Y1  Y2\n",
            "0   4  12  OR  27      Bob  18\n",
            "1   5  11  FL  26  Charlie  16\n",
            "2   6  10  GA  25    Diana  14\n",
            "\n",
            "Merged Vertically (ID in range 3 to 6):\n",
            "   ID    X1   X2    X3       Y1    Y2\n",
            "0   3  13.0   WA  28.0      NaN   NaN\n",
            "1   4  12.0   OR  27.0      NaN   NaN\n",
            "2   5  11.0   FL  26.0      NaN   NaN\n",
            "3   6  10.0   GA  25.0      NaN   NaN\n",
            "4   3   NaN  NaN   NaN    Alice  20.0\n",
            "5   4   NaN  NaN   NaN      Bob  18.0\n",
            "6   5   NaN  NaN   NaN  Charlie  16.0\n",
            "7   6   NaN  NaN   NaN    Diana  14.0\n"
          ]
        }
      ]
    },
    {
      "cell_type": "code",
      "source": [
        "import matplotlib.pyplot as plt\n",
        "import numpy as np\n",
        "\n",
        "# Sample data\n",
        "x = np.array([2, 6, 11, 12, 13, 15, 17, 18, 19, 20, 21, 0, 16, 17, 18, 32, 10, 13, 15, 60])\n",
        "y = np.array([76, 60, 72, 65, 70, 76, 55, 60, 58, 9, 10, 9, 8, 10, 9, 80, 9, 7, 9, 7])\n",
        "\n",
        "# Plot the data\n",
        "plt.plot(x, y, 'o', label='X')\n",
        "\n",
        "# Create a polynomial fit (degree 2)\n",
        "poly_fit = np.polyfit(x, y, 2)\n",
        "poly_func = np.poly1d(poly_fit)\n",
        "x_fit = np.linspace(0, 40, 100)\n",
        "y_fit = poly_func(x_fit)\n",
        "\n",
        "# Plot the fitted curve\n",
        "plt.plot(x_fit, y_fit, 'r-', label='Y')\n",
        "\n",
        "# Add labels and title\n",
        "plt.xlabel('X')\n",
        "plt.ylabel('Y')\n",
        "plt.title('Matplotlib test')\n",
        "plt.legend()\n",
        "\n",
        "# Display the plot\n",
        "plt.show()"
      ],
      "metadata": {
        "colab": {
          "base_uri": "https://localhost:8080/",
          "height": 472
        },
        "id": "5-8BfjyGDybN",
        "outputId": "338eb3b5-ebc4-4c90-fa8d-f1a17187c673"
      },
      "execution_count": 11,
      "outputs": [
        {
          "output_type": "display_data",
          "data": {
            "text/plain": [
              "<Figure size 640x480 with 1 Axes>"
            ],
            "image/png": "[encoded data removed]"
          },
          "metadata": {}
        }
      ]
    },
    {
      "cell_type": "code",
      "source": [
        "def prime_sum_up_to_n():\n",
        "    n = int(input(\"Enter a positive integer n: \"))\n",
        "\n",
        "    def is_prime(num):\n",
        "        if num < 2:\n",
        "            return False\n",
        "        for i in range(2, int(num ** 0.5) + 1):\n",
        "            if num % i == 0:\n",
        "                return False\n",
        "        return True\n",
        "\n",
        "    primes = [i for i in range(2, n + 1) if is_prime(i)]\n",
        "\n",
        "    prime_sum = 0\n",
        "    for i in range(len(primes)):\n",
        "        for j in range(i + 1, len(primes)):\n",
        "            prime_sum += primes[i] * primes[j]\n",
        "\n",
        "    print(f\"Prime numbers up to {n}: {primes}\")\n",
        "    print(f\"The prime sum is: {prime_sum}\")\n",
        "\n",
        "prime_sum_up_to_n()\n"
      ],
      "metadata": {
        "colab": {
          "base_uri": "https://localhost:8080/"
        },
        "id": "PL4PQTui8whg",
        "outputId": "d3327c42-9232-4a9a-da94-16e6096571b9"
      },
      "execution_count": 14,
      "outputs": [
        {
          "output_type": "stream",
          "name": "stdout",
          "text": [
            "Enter a positive integer n: 10\n",
            "Prime numbers up to 10: [2, 3, 5, 7]\n",
            "The prime sum is: 101\n"
          ]
        }
      ]
    },
    {
      "cell_type": "code",
      "source": [],
      "metadata": {
        "id": "9OyoQYao638C"
      },
      "execution_count": 13,
      "outputs": []
    }
  ]
}