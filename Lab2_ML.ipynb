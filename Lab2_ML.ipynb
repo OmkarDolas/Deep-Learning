{
  "nbformat": 4,
  "nbformat_minor": 0,
  "metadata": {
    "colab": {
      "provenance": [],
      "authorship_tag": "ABX9TyMK3rH34W1pHDjBJwWY2qQZ",
      "include_colab_link": true
    },
    "kernelspec": {
      "name": "python3",
      "display_name": "Python 3"
    },
    "language_info": {
      "name": "python"
    }
  },
  "cells": [
    {
      "cell_type": "markdown",
      "metadata": {
        "id": "view-in-github",
        "colab_type": "text"
      },
      "source": [
        "<a href=\"https://colab.research.google.com/github/OmkarDolas/Deep-Learning/blob/main/Lab2_ML.ipynb\" target=\"_parent\"><img src=\"https://colab.research.google.com/assets/colab-badge.svg\" alt=\"Open In Colab\"/></a>"
      ]
    },
    {
      "cell_type": "code",
      "source": [
        "import pandas as pd\n",
        "import numpy as np\n",
        "from sklearn.model_selection import train_test_split\n",
        "from sklearn.preprocessing import StandardScaler\n",
        "from sklearn.metrics import mean_squared_error, r2_score\n",
        "\n",
        "\n",
        "\n",
        "data=pd.read_csv(\"data.csv\")\n",
        "print(data.head())"
      ],
      "metadata": {
        "colab": {
          "base_uri": "https://localhost:8080/"
        },
        "id": "_jOineItVd_N",
        "outputId": "30d95856-cece-48c0-c950-0d1c6756b99c"
      },
      "execution_count": 87,
      "outputs": [
        {
          "output_type": "stream",
          "name": "stdout",
          "text": [
            "   Model year   Make         Model Vehicle class  Engine size (L)  Cylinders  \\\n",
            "0        1995  Acura       Integra    Subcompact              1.8          4   \n",
            "1        1995  Acura       Integra    Subcompact              1.8          4   \n",
            "2        1995  Acura  Integra GS-R    Subcompact              1.8          4   \n",
            "3        1995  Acura        Legend       Compact              3.2          6   \n",
            "4        1995  Acura  Legend Coupe       Compact              3.2          6   \n",
            "\n",
            "  Transmission Fuel type  City (L/100 km)  Highway (L/100 km)  \\\n",
            "0           A4         X             10.2                 7.0   \n",
            "1           M5         X              9.6                 7.0   \n",
            "2           M5         Z              9.4                 7.0   \n",
            "3           A4         Z             12.6                 8.9   \n",
            "4           A4         Z             13.0                 9.3   \n",
            "\n",
            "   Combined (L/100 km)  Combined (mpg)  CO2 emissions (g/km)  \n",
            "0                  8.8              32                   202  \n",
            "1                  8.4              34                   193  \n",
            "2                  8.3              34                   191  \n",
            "3                 10.9              26                   251  \n",
            "4                 11.3              25                   260  \n"
          ]
        }
      ]
    },
    {
      "cell_type": "code",
      "source": [
        "data.columns=data.columns.str.replace(\" \",\"\")"
      ],
      "metadata": {
        "id": "l2gK-L7RVyzZ"
      },
      "execution_count": 49,
      "outputs": []
    },
    {
      "cell_type": "code",
      "source": [
        "\n",
        "data.isna().sum()\n",
        "data.rename(columns={'Combined(mpg)':'CO2'},inplace=True)\n",
        "print(data.columns)"
      ],
      "metadata": {
        "colab": {
          "base_uri": "https://localhost:8080/"
        },
        "id": "kM0txgHOWF99",
        "outputId": "755bd0b8-f08e-475d-fee1-75f0e16f9f4a"
      },
      "execution_count": 61,
      "outputs": [
        {
          "output_type": "stream",
          "name": "stdout",
          "text": [
            "Index(['Modelyear', 'Make', 'Model', 'Vehicleclass', 'Enginesize(L)',\n",
            "       'Cylinders', 'Transmission', 'Fueltype', 'City(L/100km)',\n",
            "       'Highway(L/100km)', 'Combined(L/100km)', 'CO2', 'CO2emissions(g/km)'],\n",
            "      dtype='object', name='Combined(mpg)')\n"
          ]
        }
      ]
    },
    {
      "cell_type": "code",
      "source": [
        "\n",
        "x=data[['Modelyear', 'Enginesize(L)', 'Cylinders']]\n",
        "y=data['CO2']"
      ],
      "metadata": {
        "id": "yLASpdvlWQaC"
      },
      "execution_count": 74,
      "outputs": []
    },
    {
      "cell_type": "code",
      "source": [
        "# Feature normalization (Standardization)\n",
        "X_mean = np.mean(x, axis=0)\n",
        "X_std = np.std(x, axis=0)\n",
        "X_scaled = (x - X_mean) / X_std"
      ],
      "metadata": {
        "id": "Y8pK6NbZW-5x"
      },
      "execution_count": 75,
      "outputs": []
    },
    {
      "cell_type": "code",
      "source": [
        "# Adding bias term (x0 = 1)\n",
        "m, n = X_scaled.shape\n",
        "X_scaled = np.c_[np.ones(m), X_scaled]"
      ],
      "metadata": {
        "id": "AJu2glunYo-c"
      },
      "execution_count": 76,
      "outputs": []
    },
    {
      "cell_type": "code",
      "source": [
        "# Gradient Descent parameters\n",
        "alpha = 0.001  # Learning rate\n",
        "iterations = 1000  # Number of iterations\n",
        "theta = np.zeros((n + 1, 1))  # Initialize theta parameters"
      ],
      "metadata": {
        "id": "qQTR8cDXatmf"
      },
      "execution_count": 77,
      "outputs": []
    },
    {
      "cell_type": "code",
      "source": [
        "# Gradient Descent Loop\n",
        "cost_history = []"
      ],
      "metadata": {
        "id": "LvnZiQRnaxuX"
      },
      "execution_count": 78,
      "outputs": []
    },
    {
      "cell_type": "code",
      "source": [
        "print(\"Shape of X_scaled:\", X_scaled.shape)  # Should be (m, n+1)\n",
        "print(\"Shape of theta:\", theta.shape)        # Should be (n+1, 1)\n",
        "print(\"Shape of y:\", y.shape)                # Should be (m, 1)\n"
      ],
      "metadata": {
        "colab": {
          "base_uri": "https://localhost:8080/"
        },
        "id": "2dlCTD13azoU",
        "outputId": "13a4b39e-bf35-4f97-c3f7-53005f5a5c58"
      },
      "execution_count": 80,
      "outputs": [
        {
          "output_type": "stream",
          "name": "stdout",
          "text": [
            "Shape of X_scaled: (17766, 4)\n",
            "Shape of theta: (4, 1)\n",
            "Shape of y: (17766,)\n"
          ]
        }
      ]
    },
    {
      "cell_type": "markdown",
      "source": [
        "## Task -1: For loop approach"
      ],
      "metadata": {
        "id": "I-rVoMv2cPoz"
      }
    },
    {
      "cell_type": "code",
      "source": [
        "for _ in range(iterations):\n",
        "    predictions = X_scaled.dot(theta)  # Compute predictions\n",
        "    error = predictions - y  # Compute error\n",
        "    gradient = (1/m) * X_scaled.T.dot(error)  # Compute gradient\n",
        "    theta -= alpha * gradient  # Update theta\n",
        "    cost = (1/(2*m)) * np.sum(error**2)  # Compute cost function\n",
        "    cost_history.append(cost)"
      ],
      "metadata": {
        "id": "DEusLA1zbMUZ"
      },
      "execution_count": 83,
      "outputs": []
    },
    {
      "cell_type": "code",
      "source": [
        "y = np.array(y).reshape(-1, 1)\n"
      ],
      "metadata": {
        "id": "Kum_lnC2a1ld"
      },
      "execution_count": 82,
      "outputs": []
    },
    {
      "cell_type": "code",
      "source": [
        "# Plot Cost Function Convergence\n",
        "plt.plot(range(iterations), cost_history)\n",
        "plt.xlabel(\"Iterations\")\n",
        "plt.ylabel(\"Cost\")\n",
        "plt.title(\"Cost Function Convergence\")\n",
        "plt.show()"
      ],
      "metadata": {
        "colab": {
          "base_uri": "https://localhost:8080/",
          "height": 472
        },
        "id": "Gn5Xgh21be2t",
        "outputId": "f68a3a63-a625-4f77-e560-19062a660b81"
      },
      "execution_count": 84,
      "outputs": [
        {
          "output_type": "display_data",
          "data": {
            "text/plain": [
              "<Figure size 640x480 with 1 Axes>"
            ],
            "image/png": "[encoded data removed]"
          },
          "metadata": {}
        }
      ]
    },
    {
      "cell_type": "code",
      "source": [
        "# Predict CO2 emissions using optimized theta\n",
        "y_pred = X_scaled.dot(theta)"
      ],
      "metadata": {
        "id": "2uLL_jssbk4j"
      },
      "execution_count": 85,
      "outputs": []
    },
    {
      "cell_type": "code",
      "source": [
        "# Evaluate model performance\n",
        "mse = mean_squared_error(y, y_pred)\n",
        "r2 = r2_score(y, y_pred)"
      ],
      "metadata": {
        "id": "VlxWBXowbnWV"
      },
      "execution_count": 88,
      "outputs": []
    },
    {
      "cell_type": "code",
      "source": [
        "# Display results\n",
        "print(\" Optimized Parameters (Theta):\\n\", theta.flatten())\n",
        "print(\"Final Cost:\", cost_history[-1])\n",
        "print(\" Mean Squared Error (MSE):\", mse)\n",
        "print(\" R² Score:\", r2)"
      ],
      "metadata": {
        "colab": {
          "base_uri": "https://localhost:8080/"
        },
        "id": "NRZYD0HRbqTD",
        "outputId": "09639b6e-8b25-434a-a576-ed4a00bef5f0"
      },
      "execution_count": 90,
      "outputs": [
        {
          "output_type": "stream",
          "name": "stdout",
          "text": [
            " Optimized Parameters (Theta):\n",
            " [17.14408118  0.73284749 -2.62818493 -2.27855502]\n",
            "Final Cost: 60.40408444493716\n",
            " Mean Squared Error (MSE): 120.6057411490495\n",
            " R² Score: -1.2643602738100017\n"
          ]
        }
      ]
    },
    {
      "cell_type": "markdown",
      "source": [
        "##Task 2: The linear algebra approach"
      ],
      "metadata": {
        "id": "GRqEgIpLcX6N"
      }
    },
    {
      "cell_type": "code",
      "source": [
        "for _ in range(iterations):\n",
        "    predictions = X_scaled @ theta  # Vectorized hypothesis function\n",
        "    error = predictions - y  # Error calculation\n",
        "    gradient = (1/m) * (X_scaled.T @ error)  # Vectorized gradient computation\n",
        "    theta -= alpha * gradient  # Update theta\n",
        "    cost = (1/(2*m)) * np.sum(error**2)  # Compute cost function\n",
        "    cost_history.append(cost)"
      ],
      "metadata": {
        "id": "sJhYzMZAb9xb"
      },
      "execution_count": 91,
      "outputs": []
    },
    {
      "cell_type": "code",
      "source": [
        "cost_history = []\n",
        "# Plot Cost Function Convergence\n",
        "plt.plot(range(iterations), cost_history)\n",
        "plt.xlabel(\"Iterations\")\n",
        "plt.ylabel(\"Cost\")\n",
        "plt.title(\"Cost Function Convergence\")\n",
        "plt.show()\n",
        "\n",
        "# Predict CO2 emissions using optimized theta\n",
        "y_pred = X_scaled @ theta\n",
        "\n",
        "# Evaluate model performance\n",
        "mse = mean_squared_error(y, y_pred)\n",
        "r2 = r2_score(y, y_pred)\n",
        "\n",
        "# Store results in a structured DataFrame\n",
        "results_df = pd.DataFrame({\n",
        "    \"Metric\": [\"Optimized Theta (Parameters)\", \"Mean Squared Error (MSE)\", \"R² Score\"],\n",
        "    \"Value\": [str(theta.flatten()), mse, r2]  # Convert theta array to string for display\n",
        "})\n",
        "\n",
        "# Print the results\n",
        "print(results_df)\n",
        "\n",
        "# Return optimized theta, MSE, and R² score\n",
        "theta.flatten(), mse, r2"
      ],
      "metadata": {
        "colab": {
          "base_uri": "https://localhost:8080/",
          "height": 791
        },
        "id": "5aO6ao9LdMMh",
        "outputId": "3bd3c2a6-7f7e-4106-ec90-f79a6778842a"
      },
      "execution_count": 93,
      "outputs": [
        {
          "output_type": "error",
          "ename": "ValueError",
          "evalue": "x and y must have same first dimension, but have shapes (1000,) and (0,)",
          "traceback": [
            "\u001b[0;31m---------------------------------------------------------------------------\u001b[0m",
            "\u001b[0;31mValueError\u001b[0m                                Traceback (most recent call last)",
            "\u001b[0;32m<ipython-input-93-f1442af5ec19>\u001b[0m in \u001b[0;36m<cell line: 0>\u001b[0;34m()\u001b[0m\n\u001b[1;32m      1\u001b[0m \u001b[0mcost_history\u001b[0m \u001b[0;34m=\u001b[0m \u001b[0;34m[\u001b[0m\u001b[0;34m]\u001b[0m\u001b[0;34m\u001b[0m\u001b[0;34m\u001b[0m\u001b[0m\n\u001b[1;32m      2\u001b[0m \u001b[0;31m# Plot Cost Function Convergence\u001b[0m\u001b[0;34m\u001b[0m\u001b[0;34m\u001b[0m\u001b[0m\n\u001b[0;32m----> 3\u001b[0;31m \u001b[0mplt\u001b[0m\u001b[0;34m.\u001b[0m\u001b[0mplot\u001b[0m\u001b[0;34m(\u001b[0m\u001b[0mrange\u001b[0m\u001b[0;34m(\u001b[0m\u001b[0miterations\u001b[0m\u001b[0;34m)\u001b[0m\u001b[0;34m,\u001b[0m \u001b[0mcost_history\u001b[0m\u001b[0;34m)\u001b[0m\u001b[0;34m\u001b[0m\u001b[0;34m\u001b[0m\u001b[0m\n\u001b[0m\u001b[1;32m      4\u001b[0m \u001b[0mplt\u001b[0m\u001b[0;34m.\u001b[0m\u001b[0mxlabel\u001b[0m\u001b[0;34m(\u001b[0m\u001b[0;34m\"Iterations\"\u001b[0m\u001b[0;34m)\u001b[0m\u001b[0;34m\u001b[0m\u001b[0;34m\u001b[0m\u001b[0m\n\u001b[1;32m      5\u001b[0m \u001b[0mplt\u001b[0m\u001b[0;34m.\u001b[0m\u001b[0mylabel\u001b[0m\u001b[0;34m(\u001b[0m\u001b[0;34m\"Cost\"\u001b[0m\u001b[0;34m)\u001b[0m\u001b[0;34m\u001b[0m\u001b[0;34m\u001b[0m\u001b[0m\n",
            "\u001b[0;32m/usr/local/lib/python3.11/dist-packages/matplotlib/pyplot.py\u001b[0m in \u001b[0;36mplot\u001b[0;34m(scalex, scaley, data, *args, **kwargs)\u001b[0m\n\u001b[1;32m   3827\u001b[0m     \u001b[0;34m**\u001b[0m\u001b[0mkwargs\u001b[0m\u001b[0;34m,\u001b[0m\u001b[0;34m\u001b[0m\u001b[0;34m\u001b[0m\u001b[0m\n\u001b[1;32m   3828\u001b[0m ) -> list[Line2D]:\n\u001b[0;32m-> 3829\u001b[0;31m     return gca().plot(\n\u001b[0m\u001b[1;32m   3830\u001b[0m         \u001b[0;34m*\u001b[0m\u001b[0margs\u001b[0m\u001b[0;34m,\u001b[0m\u001b[0;34m\u001b[0m\u001b[0;34m\u001b[0m\u001b[0m\n\u001b[1;32m   3831\u001b[0m         \u001b[0mscalex\u001b[0m\u001b[0;34m=\u001b[0m\u001b[0mscalex\u001b[0m\u001b[0;34m,\u001b[0m\u001b[0;34m\u001b[0m\u001b[0;34m\u001b[0m\u001b[0m\n",
            "\u001b[0;32m/usr/local/lib/python3.11/dist-packages/matplotlib/axes/_axes.py\u001b[0m in \u001b[0;36mplot\u001b[0;34m(self, scalex, scaley, data, *args, **kwargs)\u001b[0m\n\u001b[1;32m   1775\u001b[0m         \"\"\"\n\u001b[1;32m   1776\u001b[0m         \u001b[0mkwargs\u001b[0m \u001b[0;34m=\u001b[0m \u001b[0mcbook\u001b[0m\u001b[0;34m.\u001b[0m\u001b[0mnormalize_kwargs\u001b[0m\u001b[0;34m(\u001b[0m\u001b[0mkwargs\u001b[0m\u001b[0;34m,\u001b[0m \u001b[0mmlines\u001b[0m\u001b[0;34m.\u001b[0m\u001b[0mLine2D\u001b[0m\u001b[0;34m)\u001b[0m\u001b[0;34m\u001b[0m\u001b[0;34m\u001b[0m\u001b[0m\n\u001b[0;32m-> 1777\u001b[0;31m         \u001b[0mlines\u001b[0m \u001b[0;34m=\u001b[0m \u001b[0;34m[\u001b[0m\u001b[0;34m*\u001b[0m\u001b[0mself\u001b[0m\u001b[0;34m.\u001b[0m\u001b[0m_get_lines\u001b[0m\u001b[0;34m(\u001b[0m\u001b[0mself\u001b[0m\u001b[0;34m,\u001b[0m \u001b[0;34m*\u001b[0m\u001b[0margs\u001b[0m\u001b[0;34m,\u001b[0m \u001b[0mdata\u001b[0m\u001b[0;34m=\u001b[0m\u001b[0mdata\u001b[0m\u001b[0;34m,\u001b[0m \u001b[0;34m**\u001b[0m\u001b[0mkwargs\u001b[0m\u001b[0;34m)\u001b[0m\u001b[0;34m]\u001b[0m\u001b[0;34m\u001b[0m\u001b[0;34m\u001b[0m\u001b[0m\n\u001b[0m\u001b[1;32m   1778\u001b[0m         \u001b[0;32mfor\u001b[0m \u001b[0mline\u001b[0m \u001b[0;32min\u001b[0m \u001b[0mlines\u001b[0m\u001b[0;34m:\u001b[0m\u001b[0;34m\u001b[0m\u001b[0;34m\u001b[0m\u001b[0m\n\u001b[1;32m   1779\u001b[0m             \u001b[0mself\u001b[0m\u001b[0;34m.\u001b[0m\u001b[0madd_line\u001b[0m\u001b[0;34m(\u001b[0m\u001b[0mline\u001b[0m\u001b[0;34m)\u001b[0m\u001b[0;34m\u001b[0m\u001b[0;34m\u001b[0m\u001b[0m\n",
            "\u001b[0;32m/usr/local/lib/python3.11/dist-packages/matplotlib/axes/_base.py\u001b[0m in \u001b[0;36m__call__\u001b[0;34m(self, axes, data, return_kwargs, *args, **kwargs)\u001b[0m\n\u001b[1;32m    295\u001b[0m                 \u001b[0mthis\u001b[0m \u001b[0;34m+=\u001b[0m \u001b[0margs\u001b[0m\u001b[0;34m[\u001b[0m\u001b[0;36m0\u001b[0m\u001b[0;34m]\u001b[0m\u001b[0;34m,\u001b[0m\u001b[0;34m\u001b[0m\u001b[0;34m\u001b[0m\u001b[0m\n\u001b[1;32m    296\u001b[0m                 \u001b[0margs\u001b[0m \u001b[0;34m=\u001b[0m \u001b[0margs\u001b[0m\u001b[0;34m[\u001b[0m\u001b[0;36m1\u001b[0m\u001b[0;34m:\u001b[0m\u001b[0;34m]\u001b[0m\u001b[0;34m\u001b[0m\u001b[0;34m\u001b[0m\u001b[0m\n\u001b[0;32m--> 297\u001b[0;31m             yield from self._plot_args(\n\u001b[0m\u001b[1;32m    298\u001b[0m                 \u001b[0maxes\u001b[0m\u001b[0;34m,\u001b[0m \u001b[0mthis\u001b[0m\u001b[0;34m,\u001b[0m \u001b[0mkwargs\u001b[0m\u001b[0;34m,\u001b[0m \u001b[0mambiguous_fmt_datakey\u001b[0m\u001b[0;34m=\u001b[0m\u001b[0mambiguous_fmt_datakey\u001b[0m\u001b[0;34m,\u001b[0m\u001b[0;34m\u001b[0m\u001b[0;34m\u001b[0m\u001b[0m\n\u001b[1;32m    299\u001b[0m                 \u001b[0mreturn_kwargs\u001b[0m\u001b[0;34m=\u001b[0m\u001b[0mreturn_kwargs\u001b[0m\u001b[0;34m\u001b[0m\u001b[0;34m\u001b[0m\u001b[0m\n",
            "\u001b[0;32m/usr/local/lib/python3.11/dist-packages/matplotlib/axes/_base.py\u001b[0m in \u001b[0;36m_plot_args\u001b[0;34m(self, axes, tup, kwargs, return_kwargs, ambiguous_fmt_datakey)\u001b[0m\n\u001b[1;32m    492\u001b[0m \u001b[0;34m\u001b[0m\u001b[0m\n\u001b[1;32m    493\u001b[0m         \u001b[0;32mif\u001b[0m \u001b[0mx\u001b[0m\u001b[0;34m.\u001b[0m\u001b[0mshape\u001b[0m\u001b[0;34m[\u001b[0m\u001b[0;36m0\u001b[0m\u001b[0;34m]\u001b[0m \u001b[0;34m!=\u001b[0m \u001b[0my\u001b[0m\u001b[0;34m.\u001b[0m\u001b[0mshape\u001b[0m\u001b[0;34m[\u001b[0m\u001b[0;36m0\u001b[0m\u001b[0;34m]\u001b[0m\u001b[0;34m:\u001b[0m\u001b[0;34m\u001b[0m\u001b[0;34m\u001b[0m\u001b[0m\n\u001b[0;32m--> 494\u001b[0;31m             raise ValueError(f\"x and y must have same first dimension, but \"\n\u001b[0m\u001b[1;32m    495\u001b[0m                              f\"have shapes {x.shape} and {y.shape}\")\n\u001b[1;32m    496\u001b[0m         \u001b[0;32mif\u001b[0m \u001b[0mx\u001b[0m\u001b[0;34m.\u001b[0m\u001b[0mndim\u001b[0m \u001b[0;34m>\u001b[0m \u001b[0;36m2\u001b[0m \u001b[0;32mor\u001b[0m \u001b[0my\u001b[0m\u001b[0;34m.\u001b[0m\u001b[0mndim\u001b[0m \u001b[0;34m>\u001b[0m \u001b[0;36m2\u001b[0m\u001b[0;34m:\u001b[0m\u001b[0;34m\u001b[0m\u001b[0;34m\u001b[0m\u001b[0m\n",
            "\u001b[0;31mValueError\u001b[0m: x and y must have same first dimension, but have shapes (1000,) and (0,)"
          ]
        },
        {
          "output_type": "display_data",
          "data": {
            "text/plain": [
              "<Figure size 640x480 with 1 Axes>"
            ],
            "image/png": "[encoded data removed]"
          },
          "metadata": {}
        }
      ]
    },
    {
      "cell_type": "code",
      "source": [
        "np.zeros((3, 1))"
      ],
      "metadata": {
        "colab": {
          "base_uri": "https://localhost:8080/"
        },
        "id": "CSBr4Uz-dT_R",
        "outputId": "7c02d99b-0b53-4440-d625-83136826e2ba"
      },
      "execution_count": 94,
      "outputs": [
        {
          "output_type": "execute_result",
          "data": {
            "text/plain": [
              "array([[0.],\n",
              "       [0.],\n",
              "       [0.]])"
            ]
          },
          "metadata": {},
          "execution_count": 94
        }
      ]
    },
    {
      "cell_type": "code",
      "source": [
        "m = 1000\n",
        "n = 1_000_000\n",
        "np.random.rand(m,n)"
      ],
      "metadata": {
        "colab": {
          "base_uri": "https://localhost:8080/"
        },
        "id": "ZcitAh0vB9fe",
        "outputId": "6acb761e-7758-48d0-cd97-5e84c0609f59"
      },
      "execution_count": 95,
      "outputs": [
        {
          "output_type": "execute_result",
          "data": {
            "text/plain": [
              "array([[0.91055641, 0.81518111, 0.12497528, ..., 0.04187844, 0.67547198,\n",
              "        0.348037  ],\n",
              "       [0.96499006, 0.82343209, 0.00982929, ..., 0.72541001, 0.27533277,\n",
              "        0.19019092],\n",
              "       [0.2843612 , 0.94807803, 0.8863488 , ..., 0.11283302, 0.94327204,\n",
              "        0.44932169],\n",
              "       ...,\n",
              "       [0.90719978, 0.45832955, 0.45191964, ..., 0.57063521, 0.48603854,\n",
              "        0.46494754],\n",
              "       [0.745095  , 0.29747394, 0.71622051, ..., 0.94016523, 0.30685297,\n",
              "        0.65716757],\n",
              "       [0.92624973, 0.09736546, 0.54027062, ..., 0.02370238, 0.11672411,\n",
              "        0.0682066 ]])"
            ]
          },
          "metadata": {},
          "execution_count": 95
        }
      ]
    },
    {
      "cell_type": "code",
      "source": [],
      "metadata": {
        "id": "zUe_frF9CmNe"
      },
      "execution_count": null,
      "outputs": []
    }
  ]
}